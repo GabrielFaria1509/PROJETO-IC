{
 "cells": [
  {
   "cell_type": "code",
   "execution_count": null,
   "id": "43389247",
   "metadata": {},
   "outputs": [
    {
     "name": "stdout",
     "output_type": "stream",
     "text": [
      "CSV carregado com sucesso!\n",
      "   having_IP_Address  URL_Length  Shortining_Service  having_At_Symbol  \\\n",
      "0                 -1           1                   1                 1   \n",
      "1                  1           1                   1                 1   \n",
      "2                  1           0                   1                 1   \n",
      "3                  1           0                   1                 1   \n",
      "4                  1           0                  -1                 1   \n",
      "\n",
      "   double_slash_redirecting  Prefix_Suffix  having_Sub_Domain  SSLfinal_State  \\\n",
      "0                        -1             -1                 -1              -1   \n",
      "1                         1             -1                  0               1   \n",
      "2                         1             -1                 -1              -1   \n",
      "3                         1             -1                 -1              -1   \n",
      "4                         1             -1                  1               1   \n",
      "\n",
      "   Domain_registeration_length  Favicon  ...  popUpWidnow  Iframe  \\\n",
      "0                           -1        1  ...            1       1   \n",
      "1                           -1        1  ...            1       1   \n",
      "2                           -1        1  ...            1       1   \n",
      "3                            1        1  ...            1       1   \n",
      "4                           -1        1  ...           -1       1   \n",
      "\n",
      "   age_of_domain  DNSRecord  web_traffic  Page_Rank  Google_Index  \\\n",
      "0             -1         -1           -1         -1             1   \n",
      "1             -1         -1            0         -1             1   \n",
      "2              1         -1            1         -1             1   \n",
      "3             -1         -1            1         -1             1   \n",
      "4             -1         -1            0         -1             1   \n",
      "\n",
      "   Links_pointing_to_page  Statistical_report  Result  \n",
      "0                       1                  -1      -1  \n",
      "1                       1                   1      -1  \n",
      "2                       0                  -1      -1  \n",
      "3                      -1                   1      -1  \n",
      "4                       1                   1       1  \n",
      "\n",
      "[5 rows x 31 columns]\n"
     ]
    }
   ],
   "source": [
    "import pandas as pd\n",
    "from pycaret.classification import*\n",
    "\n",
    "#1 carregando csc/dataset\n",
    "df = pd.read_csv('meu_dataset_phishing.csv')\n",
    "\n",
    "print(\"CSV carregado com sucesso!\")\n",
    "print(\"versão original(Inglês-EUA) do dataset:\")\n",
    "print(df.head())\n"
   ]
  },
  {
   "cell_type": "code",
   "execution_count": null,
   "id": "ecf972b1",
   "metadata": {},
   "outputs": [],
   "source": [
    "dicionario_colunas = {\n",
    "    'having_IP_Address': 'tem_endereco_ip',\n",
    "    'URL_Length': 'comprimento_url',\n",
    "    'Shortining_Service': 'servico_encurtamento',\n",
    "    'having_At_Symbol': 'tem_simbolo_arroba',\n",
    "    'double_slash_redirecting': 'redirecionamento_barra_dupla',\n",
    "    'Prefix_Suffix': 'prefixo_sufixo',\n",
    "    'having_Sub_Domain': 'tem_sub_dominio',\n",
    "    'SSLfinal_State': 'estado_ssl_final',\n",
    "    'Domain_registeration_length': 'duracao_registro_dominio',\n",
    "    'Favicon': 'favicon',\n",
    "    'port': 'porta_nao_padrao',\n",
    "    'HTTPS_token': 'token_https_no_dominio',\n",
    "    'Request_URL': 'url_requisicao_externa',\n",
    "    'URL_of_Anchor': 'url_das_ancoras',\n",
    "    'Links_in_tags': 'links_em_tags_meta',\n",
    "    'SFH': 'sfh', # (Server Form Handler - pode manter assim)\n",
    "    'Submitting_to_email': 'envio_formulario_para_email',\n",
    "    'Abnormal_URL': 'url_anormal',\n",
    "    'Redirect': 'contagem_redirecionamentos',\n",
    "    'on_mouseover': 'evento_on_mouseover',\n",
    "    'RightClick': 'clique_direito_desabilitado',\n",
    "    'popUpWidnow': 'janela_popup', # (O nome original tem um erro de digitação)\n",
    "    'Iframe': 'usa_iframe',\n",
    "    'age_of_domain': 'idade_dominio',\n",
    "    'DNSRecord': 'registro_dns',\n",
    "    'web_traffic': 'trafego_web',\n",
    "    'Page_Rank': 'page_rank',\n",
    "    'Google_Index': 'indexado_google',\n",
    "    'Links_pointing_to_page': 'links_apontando_pagina',\n",
    "    'Statistical_report': 'relatorio_estatistico',\n",
    "    'Result': 'Resultado' # Esta é a sua coluna-alvo (target)\n",
    "}\n",
    "\n",
    "##renomeando as colunas do dataset\n",
    "df = df.rename(columns = dicionario_colunas)\n",
    "\n",
    "print(\"versão traduzida do dataset:\")\n",
    "print(df.head())\n",
    "\n",
    "\n"
   ]
  }
 ],
 "metadata": {
  "kernelspec": {
   "display_name": "Python 3",
   "language": "python",
   "name": "python3"
  },
  "language_info": {
   "codemirror_mode": {
    "name": "ipython",
    "version": 3
   },
   "file_extension": ".py",
   "mimetype": "text/x-python",
   "name": "python",
   "nbconvert_exporter": "python",
   "pygments_lexer": "ipython3",
   "version": "3.12.4"
  }
 },
 "nbformat": 4,
 "nbformat_minor": 5
}
